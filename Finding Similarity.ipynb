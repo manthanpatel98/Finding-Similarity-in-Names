{
 "cells": [
  {
   "cell_type": "code",
   "execution_count": 1,
   "metadata": {},
   "outputs": [],
   "source": [
    "import pandas as pd\n",
    "from fuzzywuzzy import fuzz"
   ]
  },
  {
   "cell_type": "code",
   "execution_count": 4,
   "metadata": {},
   "outputs": [
    {
     "name": "stdout",
     "output_type": "stream",
     "text": [
      "Collecting fuzzywuzzy\n",
      "  Downloading https://files.pythonhosted.org/packages/43/ff/74f23998ad2f93b945c0309f825be92e04e0348e062026998b5eefef4c33/fuzzywuzzy-0.18.0-py2.py3-none-any.whl\n",
      "Installing collected packages: fuzzywuzzy\n",
      "Successfully installed fuzzywuzzy-0.18.0\n"
     ]
    }
   ],
   "source": [
    "!pip install fuzzywuzzy"
   ]
  },
  {
   "cell_type": "code",
   "execution_count": 2,
   "metadata": {},
   "outputs": [
    {
     "data": {
      "text/html": [
       "<div>\n",
       "<style scoped>\n",
       "    .dataframe tbody tr th:only-of-type {\n",
       "        vertical-align: middle;\n",
       "    }\n",
       "\n",
       "    .dataframe tbody tr th {\n",
       "        vertical-align: top;\n",
       "    }\n",
       "\n",
       "    .dataframe thead th {\n",
       "        text-align: right;\n",
       "    }\n",
       "</style>\n",
       "<table border=\"1\" class=\"dataframe\">\n",
       "  <thead>\n",
       "    <tr style=\"text-align: right;\">\n",
       "      <th></th>\n",
       "      <th>Expedia</th>\n",
       "      <th>Booking.com</th>\n",
       "    </tr>\n",
       "  </thead>\n",
       "  <tbody>\n",
       "    <tr>\n",
       "      <td>0</td>\n",
       "      <td>Deluxe Room, 1 King Bed</td>\n",
       "      <td>Deluxe King Room</td>\n",
       "    </tr>\n",
       "    <tr>\n",
       "      <td>1</td>\n",
       "      <td>Standard Room, 1 King Bed, Accessible</td>\n",
       "      <td>Standard King Roll-in Shower Accessible</td>\n",
       "    </tr>\n",
       "    <tr>\n",
       "      <td>2</td>\n",
       "      <td>Grand Corner King Room, 1 King Bed</td>\n",
       "      <td>Grand Corner King Room</td>\n",
       "    </tr>\n",
       "    <tr>\n",
       "      <td>3</td>\n",
       "      <td>Suite, 1 King Bed (Parlor)</td>\n",
       "      <td>King Parlor Suite</td>\n",
       "    </tr>\n",
       "    <tr>\n",
       "      <td>4</td>\n",
       "      <td>High-Floor Premium Room, 1 King Bed</td>\n",
       "      <td>High-Floor Premium King Room</td>\n",
       "    </tr>\n",
       "    <tr>\n",
       "      <td>5</td>\n",
       "      <td>Traditional Double Room, 2 Double Beds</td>\n",
       "      <td>Double Room with Two Double Beds</td>\n",
       "    </tr>\n",
       "    <tr>\n",
       "      <td>6</td>\n",
       "      <td>Room, 1 King Bed, Accessible</td>\n",
       "      <td>King Room - Disability Access</td>\n",
       "    </tr>\n",
       "    <tr>\n",
       "      <td>7</td>\n",
       "      <td>Deluxe Room, 1 King Bed</td>\n",
       "      <td>Deluxe King Room</td>\n",
       "    </tr>\n",
       "    <tr>\n",
       "      <td>8</td>\n",
       "      <td>Deluxe Room</td>\n",
       "      <td>Deluxe Room (Non Refundable)</td>\n",
       "    </tr>\n",
       "    <tr>\n",
       "      <td>9</td>\n",
       "      <td>Room, 2 Double Beds (19th to 25th Floors)</td>\n",
       "      <td>Two Double Beds - Location Room (19th to 25th ...</td>\n",
       "    </tr>\n",
       "  </tbody>\n",
       "</table>\n",
       "</div>"
      ],
      "text/plain": [
       "                                     Expedia  \\\n",
       "0                    Deluxe Room, 1 King Bed   \n",
       "1      Standard Room, 1 King Bed, Accessible   \n",
       "2         Grand Corner King Room, 1 King Bed   \n",
       "3                 Suite, 1 King Bed (Parlor)   \n",
       "4        High-Floor Premium Room, 1 King Bed   \n",
       "5     Traditional Double Room, 2 Double Beds   \n",
       "6               Room, 1 King Bed, Accessible   \n",
       "7                    Deluxe Room, 1 King Bed   \n",
       "8                                Deluxe Room   \n",
       "9  Room, 2 Double Beds (19th to 25th Floors)   \n",
       "\n",
       "                                         Booking.com  \n",
       "0                                   Deluxe King Room  \n",
       "1            Standard King Roll-in Shower Accessible  \n",
       "2                             Grand Corner King Room  \n",
       "3                                  King Parlor Suite  \n",
       "4                       High-Floor Premium King Room  \n",
       "5                   Double Room with Two Double Beds  \n",
       "6                      King Room - Disability Access  \n",
       "7                                   Deluxe King Room  \n",
       "8                       Deluxe Room (Non Refundable)  \n",
       "9  Two Double Beds - Location Room (19th to 25th ...  "
      ]
     },
     "execution_count": 2,
     "metadata": {},
     "output_type": "execute_result"
    }
   ],
   "source": [
    "df = pd.read_csv('room_type.csv')\n",
    "df.head(10)"
   ]
  },
  {
   "cell_type": "code",
   "execution_count": 152,
   "metadata": {},
   "outputs": [
    {
     "data": {
      "text/html": [
       "<div>\n",
       "<style scoped>\n",
       "    .dataframe tbody tr th:only-of-type {\n",
       "        vertical-align: middle;\n",
       "    }\n",
       "\n",
       "    .dataframe tbody tr th {\n",
       "        vertical-align: top;\n",
       "    }\n",
       "\n",
       "    .dataframe thead th {\n",
       "        text-align: right;\n",
       "    }\n",
       "</style>\n",
       "<table border=\"1\" class=\"dataframe\">\n",
       "  <thead>\n",
       "    <tr style=\"text-align: right;\">\n",
       "      <th></th>\n",
       "      <th>Name Comma Separated</th>\n",
       "      <th>Name Space Separated</th>\n",
       "      <th>Result</th>\n",
       "    </tr>\n",
       "  </thead>\n",
       "  <tbody>\n",
       "    <tr>\n",
       "      <td>0</td>\n",
       "      <td>Traditional Room, 1 King Bed</td>\n",
       "      <td>King Room</td>\n",
       "      <td>100</td>\n",
       "    </tr>\n",
       "    <tr>\n",
       "      <td>1</td>\n",
       "      <td>Traditional Room, 1 King Bed</td>\n",
       "      <td>Deluxe King Room</td>\n",
       "      <td>72</td>\n",
       "    </tr>\n",
       "    <tr>\n",
       "      <td>2</td>\n",
       "      <td>Traditional Double Room, 2 Double Beds</td>\n",
       "      <td>Double Room with Two Double Beds</td>\n",
       "      <td>78</td>\n",
       "    </tr>\n",
       "    <tr>\n",
       "      <td>3</td>\n",
       "      <td>Traditional Double Room, 2 Double Beds</td>\n",
       "      <td>Luxury Double Room</td>\n",
       "      <td>76</td>\n",
       "    </tr>\n",
       "    <tr>\n",
       "      <td>5</td>\n",
       "      <td>Suite, 1 King Bed, Non Smoking</td>\n",
       "      <td>King Suite</td>\n",
       "      <td>100</td>\n",
       "    </tr>\n",
       "    <tr>\n",
       "      <td>...</td>\n",
       "      <td>...</td>\n",
       "      <td>...</td>\n",
       "      <td>...</td>\n",
       "    </tr>\n",
       "    <tr>\n",
       "      <td>665</td>\n",
       "      <td>City Room, City View</td>\n",
       "      <td>Queen Room With Two Queen Beds and City View</td>\n",
       "      <td>100</td>\n",
       "    </tr>\n",
       "    <tr>\n",
       "      <td>667</td>\n",
       "      <td>City Room, City View</td>\n",
       "      <td>Room With City View</td>\n",
       "      <td>100</td>\n",
       "    </tr>\n",
       "    <tr>\n",
       "      <td>685</td>\n",
       "      <td>Business Plan, 1 King Bed</td>\n",
       "      <td>Business King Room</td>\n",
       "      <td>84</td>\n",
       "    </tr>\n",
       "    <tr>\n",
       "      <td>686</td>\n",
       "      <td>Business Double Room, 2 Double Beds</td>\n",
       "      <td>Business Double Room With Two Double Beds</td>\n",
       "      <td>96</td>\n",
       "    </tr>\n",
       "    <tr>\n",
       "      <td>687</td>\n",
       "      <td>Business Double Room, 2 Double Beds</td>\n",
       "      <td>Business King Room</td>\n",
       "      <td>84</td>\n",
       "    </tr>\n",
       "  </tbody>\n",
       "</table>\n",
       "<p>183 rows × 3 columns</p>\n",
       "</div>"
      ],
      "text/plain": [
       "                       Name Comma Separated  \\\n",
       "0              Traditional Room, 1 King Bed   \n",
       "1              Traditional Room, 1 King Bed   \n",
       "2    Traditional Double Room, 2 Double Beds   \n",
       "3    Traditional Double Room, 2 Double Beds   \n",
       "5            Suite, 1 King Bed, Non Smoking   \n",
       "..                                      ...   \n",
       "665                    City Room, City View   \n",
       "667                    City Room, City View   \n",
       "685               Business Plan, 1 King Bed   \n",
       "686     Business Double Room, 2 Double Beds   \n",
       "687     Business Double Room, 2 Double Beds   \n",
       "\n",
       "                             Name Space Separated  Result  \n",
       "0                                       King Room     100  \n",
       "1                                Deluxe King Room      72  \n",
       "2                Double Room with Two Double Beds      78  \n",
       "3                              Luxury Double Room      76  \n",
       "5                                      King Suite     100  \n",
       "..                                            ...     ...  \n",
       "665  Queen Room With Two Queen Beds and City View     100  \n",
       "667                           Room With City View     100  \n",
       "685                            Business King Room      84  \n",
       "686     Business Double Room With Two Double Beds      96  \n",
       "687                            Business King Room      84  \n",
       "\n",
       "[183 rows x 3 columns]"
      ]
     },
     "execution_count": 152,
     "metadata": {},
     "output_type": "execute_result"
    }
   ],
   "source": [
    "name_list_comma = df['Expedia']\n",
    "name_list_space = df['Booking.com']\n",
    "n = 2\n",
    "\n",
    "def find_similarity(name_list_comma,name_list_space,n):\n",
    "    op = []\n",
    "    for nlc in name_list_comma:\n",
    "        for nls in name_list_space:\n",
    "            result = fuzz.token_set_ratio(nlc, nls)\n",
    "            if(result > 70):\n",
    "                op.append((nlc,nls,result))\n",
    "\n",
    "    final_result = set(op)\n",
    "    \n",
    "    data = pd.DataFrame(list(final_res),columns=['Name Comma Separated','Name Space Separated','Result'])\n",
    "    data = data.sort_values(['Name Comma Separated','Result'],ascending=False).reset_index(drop=True)\n",
    "    \n",
    "    lis = data['Name Comma Separated'].unique()\n",
    "    filtered = pd.DataFrame()\n",
    "    for l in lis:\n",
    "        tem = data[data['Name Comma Separated'] == l].sort_values('Result',ascending = False).nlargest(n,'Result')\n",
    "        filtered = filtered.append(tem)\n",
    "    \n",
    "    return filtered\n",
    "\n",
    "\n",
    "\n",
    "\n",
    "gh = find_similarity(name_list_comma,name_list_space,n)\n",
    "gh"
   ]
  },
  {
   "cell_type": "code",
   "execution_count": 5,
   "metadata": {},
   "outputs": [
    {
     "name": "stderr",
     "output_type": "stream",
     "text": [
      "C:\\Users\\Manthan\\Anaconda3\\lib\\site-packages\\fuzzywuzzy\\fuzz.py:11: UserWarning: Using slow pure-python SequenceMatcher. Install python-Levenshtein to remove this warning\n",
      "  warnings.warn('Using slow pure-python SequenceMatcher. Install python-Levenshtein to remove this warning')\n"
     ]
    },
    {
     "data": {
      "text/plain": [
       "62"
      ]
     },
     "execution_count": 5,
     "metadata": {},
     "output_type": "execute_result"
    }
   ],
   "source": [
    "gh = find_similarity()"
   ]
  },
  {
   "cell_type": "code",
   "execution_count": 12,
   "metadata": {},
   "outputs": [
    {
     "data": {
      "text/plain": [
       "100"
      ]
     },
     "execution_count": 12,
     "metadata": {},
     "output_type": "execute_result"
    }
   ],
   "source": [
    "fuzz.token_set_ratio('Patel, Manthan', 'Manthan (NOC) Patel')\n"
   ]
  },
  {
   "cell_type": "code",
   "execution_count": 15,
   "metadata": {},
   "outputs": [
    {
     "data": {
      "text/plain": [
       "0.9029126213592233"
      ]
     },
     "execution_count": 15,
     "metadata": {},
     "output_type": "execute_result"
    }
   ],
   "source": [
    "def get_ratio(row):\n",
    "    name = row['Expedia']\n",
    "    name1 = row['Booking.com']\n",
    "    return fuzz.token_set_ratio(name, name1)\n",
    "len(df[df.apply(get_ratio, axis=1) > 70]) / len(df)"
   ]
  },
  {
   "cell_type": "code",
   "execution_count": 30,
   "metadata": {},
   "outputs": [
    {
     "name": "stdout",
     "output_type": "stream",
     "text": [
      "{('Standard Room, 1 King Bed, Accessible', 'Standard King Roll-in Shower Accessible', 81), ('Suite, 1 King Bed, Non Smoking', 'Club Ocean Front Suite King Bed', 71), ('Room, Ocean View ', 'Accessible Partial Ocean View With Two Double Beds', 80), ('Business Double Room, 2 Double Beds', 'Two Double Beds - Location Room (19th to 25th Floors)', 74), ('Room, 1 King Bed, Ocean View', 'Partical Ocean View Room', 77), ('City Room, City View', 'Queen Room With Two Queen Beds and City View', 100), ('Deluxe Room, 1 Queen Bed (High Floor)', 'Deluxe Room - Two Queen Beds', 79), ('City Room, City View', 'Standard Room Dolphin Lagoon View', 78), ('Standard Room, Lagoon View', 'Standard Room With Mountain View', 84), ('Club Suite, 1 King Bed, Accessible, Ocean View', 'Accessible Club Ocean View Suite With One King Bed', 98), ('Suite, 1 Bedroom', 'One Bedroom Suite', 93), ('Room, 2 Double Beds, Ocean View (Diamond Head)', 'Partial Ocean View With Two Double Beds', 72), ('Room, 2 Double Beds, City View', 'Two Double Beds - Location Room (19th to 25th Floors)', 73), ('Regency Club, Ocean View', 'Accessible Club Ocean View Suite With One King Bed', 79), ('Room, 1 Queen Bed', 'Queen Room With Two Queen Beds and City View', 77), ('Suite, 1 King Bed (Parlor)', 'Club Ocean Front Suite King Bed', 76), ('Standard Room, Mountain View (City View - Kona Tower) - No Resort Fee', 'Standard Room Dolphin Lagoon View', 71), ('Deluxe Suite, 1 Bedroom', 'One - Bedroom Suite', 87), ('Premium Room, 1 Queen Bed', 'Club Premium Two Queen', 74), ('Room, 1 King Bed', 'Ocean View Room With King Bed', 93), ('Signature Suite, 1 Bedroom', 'Signature Double', 72), ('Standard Room, Ocean View', 'Standard King Room', 84), ('Premium Room, 2 Queen Beds', 'Club Queen Room With Two Queen Beds and Free Wi-Fi', 75), ('Room, 1 King Bed, Accessible, View (Rainbow, Bathtub)', 'Deluxe King Room', 72), ('Room, Accessible', 'Accessible Club Ocean View Suite With One King Bed', 80), ('Room, 1 King Bed (19th to 25 Floors)', 'Two Double Beds - Location Room (19th to 25th Floors)', 73), ('Room, 1 King Bed, City View', 'Queen Room With Two Queen Beds and City View', 72), ('Club Room, 1 King Bed, Oceanfront', 'Royal Club Premier Room - One King Bed', 73), ('Standard Room, Partial Ocean View (Kona Tower) - No Resort Fee', 'Waikiki Tower Partial Ocean View', 86), ('Room, 2 Double Beds, City View', 'Partial Ocean View With Two Double Beds', 73), ('Room, Ocean View', 'Club Level King Or Queen Room with City View', 75), ('Luxury Room, 1 King Bed, Non Smoking', 'Luxury King', 100), ('Room, Partial Ocean View', 'Kona Tower Partial Ocean View', 88), ('Signature Room, 1 King Bed', 'Signature King', 100), ('Deluxe Suite', 'Deluxe King Suite With Sofa Bed', 100), ('Club Room, 1 King Bed, Oceanfront', 'Club One King', 82), ('Traditional Double Room, 2 Double Beds', 'Luxury Double Room', 76), ('Room, Ocean View ', 'Kona Tower Partial Ocean View', 80), ('Deluxe Room, 1 King Bed', 'Royal Club Premier Room - One King Bed', 74), ('Room, 2 Queen Beds, Garden View', 'Queen Room With Two Queen Beds and City View', 82), ('Room, 1 King Bed, Ocean View', 'King Or Two Queen Room With Ocean View', 87), ('Regency Club, Mountain View', 'Regency Club Mountain View', 100), ('Room, Accessible', 'Standard King Roll-in Shower Accessible', 80), ('Room, 1 King Bed, City View', 'Deluxe King Room', 72), ('Premium Room, 1 King Bed', 'Premium King Room With Free Wi-Fi', 85), ('Club Suite, 1 King Bed, Accessible, Ocean View', 'Ocean View Room With King Bed', 79), ('Room, 1 King Bed', 'King Or Two Queen Room With Ocean View', 75), ('Business Double Room, 2 Double Beds', 'Luxury Double Room', 76), ('Standard Room, Partial Ocean View (Waikiki Tower) - No Resort Fee', 'Partical Ocean View Room', 77), ('Room, 1 King Bed, Accessible, View (Rainbow, Bathtub)', 'Rainbow Tower Ocean View With King Bed - Mobility Accessible Tub  ', 81), ('Room, 1 King Bed, City View', 'King Room', 100), ('Club Room, Premium 2 Queen Beds', 'Club Queen Room With Two Queen Beds and Free Wi-Fi', 80), ('Standard Room, Ocean View (Waikiki Tower) - No Resort Fee', 'Partical Ocean View Room', 77), ('Club Room, 1 King Bed', 'Club King Room With Free Wi-Fi', 82), ('Room, 1 King Bed, Ocean View', 'Standard Room With Ocean Front View', 73), ('Classic Room, 1 King Bed', 'Royal Club Premier Room - One King Bed', 72), ('Room, 1 Queen Bed, City View', 'Queen Room', 100), ('Grand Corner King Room, 1 King Bed', 'Grand Corner King Room', 100), ('Room, Partial Ocean View', 'Waikiki Tower Partial Ocean View', 88), ('Club Room, Premium 2 Queen Beds', 'Club Two Queen', 83), ('Room, 2 Queen Beds (Waikiki View)', 'Deluxe Room - Two Queen Beds', 73), ('City Room, City View', 'Club Level King Or Queen Room with City View', 100), ('Room, Ocean View ', 'Standard Room With Ocean Front View', 100), ('Suite, 1 King Bed (Parlor)', 'Deluxe King Suite With Sofa Bed', 76), ('Signature Room, 2 Queen Beds', 'Queen Room With Two Queen Beds and Garden View', 71), ('Deluxe Suite', 'Deluxe One - Bedroom Suite', 100), ('Standard Room, Lagoon View', 'Standard Room With Ocean Front View', 84), ('Deluxe Suite, 1 Bedroom', 'Deluxe King Suite With Sofa Bed', 71), ('Club Suite, 1 King Bed, Oceanfront (No Resort Charge)', 'King Parlor Suite', 74), ('Deluxe Room', 'Deluxe King Or Queen Room with Lake View', 100), ('Room, Ocean View', 'Regency Club Ocean View', 80), ('Room, Ocean View', 'Standard Room With Mountain View', 75), ('Club Room, 2 Queen Beds', 'Club Queen Room With Two Queen Beds and Free Wi-Fi', 95), ('Club Suite, 1 King Bed, Accessible, Ocean View', 'Regency Club Ocean View', 79), ('Deluxe Room, Lake View', 'Deluxe King Or Queen Room with Lake View', 100), ('Club Suite, 1 King Bed, Oceanfront (No Resort Charge)', 'Club One King', 82), ('Room, 1 Queen Bed', 'Deluxe King Or Queen Room with Lake View', 77), ('Room, 2 Double Beds, Partial Ocean View', 'Double Room with Two Double Beds', 78), ('Studio, 1 King Bed with Sofa bed, Corner', 'Corner King Studio', 100), ('City Room, City View', 'Club Level King Or Queen Room with Water View', 78), ('Premier Room, 1 King Bed', 'Royal Club Premier Room - One King Bed', 95), ('Club Suite, 1 King Bed, Accessible, Ocean View', 'King Parlor Suite', 74), ('Luxury Room, 1 King Bed, Non Smoking', 'Deluxe King Room', 72), ('Club Room, 2 Queen Beds', 'Club Two Queen', 83), ('Room, 2 Double Beds, Partial Ocean View', 'Luxury Double Room', 76), ('Club Suite, 1 King Bed, Oceanfront (No Resort Charge)', 'King Suite', 100), ('Standard Room, Ocean View (Waikiki Tower) - No Resort Fee', 'Standard Room With Ocean View', 91), ('Business Double Room, 2 Double Beds', 'Business King Room', 84), ('Traditional Room, 1 King Bed', 'King Room', 100), ('Room, 2 Double Beds, Partial Ocean View', 'Room With Ocean View', 86), ('Room, 1 King Bed (19th to 25 Floors)', 'King Bed - Location Room (19th to 25th Floors)', 92), ('Club Room, Premium 2 Queen Beds', 'Premium Two Queen', 87), ('Club Room, 2 Queen Beds', 'Premier Queen Room With Two Queen Beds', 81), ('Standard Room, Ocean View (Waikiki Tower) - No Resort Fee', 'Standard Room With Ocean Front View', 81), ('Executive Room, 1 King Bed, Non Smoking', 'King Room', 100), ('City Room, City View', 'Partical Ocean View Room', 78), ('Room, Accessible', 'Rainbow Tower Ocean View With King Bed - Mobility Accessible Tub  ', 80), ('Room, 2 Queen Beds, Garden View', 'Queen Room With City View', 75), ('Junior Suite, 1 King Bed with Sofa Bed', 'Deluxe King Suite With Sofa Bed', 87), ('Suite, 1 Bedroom', 'One-Bedroom Suite', 93), ('Room, Ocean View ', 'Queen Room With Two Queen Beds and Waikiki View', 75), ('Room, 1 King Bed, Accessible, View (Rainbow, Bathtub)', 'Ocean View Room With King Bed', 77), ('Club Suite, 1 King Bed, Oceanfront (No Resort Charge)', 'Gold King Suite', 80), ('Premium Room, 2 Queen Beds', 'Queen Room With Two Queen Beds and Garden View', 75), ('Premium Room, 2 Queen Beds', 'Premier Queen Room With Two Queen Beds', 75), ('Room, 1 King Bed, Accessible', 'Standard King Roll-in Shower Accessible', 73), ('Club Room, City View (Club Lounge Access for 2 guests)', 'Queen Room With City View', 72), ('Room, 2 Double Beds, Ocean View (Diamond Head)', 'Deluxe Double Room', 76), ('Premier Room, 1 King Bed', 'King Room', 100), ('Room, 2 Double Beds', 'Deluxe Double Room', 76), ('Room, 1 Queen Bed', 'Deluxe King Or Queen Room', 77), ('Signature Room, 2 Double Beds, Non Smoking', 'Signature Double', 100), ('Room, 1 King Bed, Resort View (Alii)', 'King Room', 100), ('Premier Twin Room', 'Premier Queen Room With Two Queen Beds', 83), ('Room, Partial Ocean View', 'Partical Ocean View Room', 98), ('Standard Room, Ocean View (Waikiki Tower) - No Resort Fee', 'Standard King Room', 84), ('Room, 1 King Bed, Accessible, Resort View (Alii, Bathtub)', 'Deluxe King Room', 72), ('Deluxe Room, 2 Queen Beds', 'Queen Room', 100), ('Deluxe Room, 1 King Bed', 'Ocean View Room With King Bed', 74), ('City Room, City View', 'City View With Two Double Beds', 78), ('Deluxe Room, 1 King Bed, Non Smoking', 'Deluxe Room - One King Bed', 91), ('Room, 2 Queen Beds, City View', 'Premier Queen Room With Two Queen Beds', 71), ('Deluxe Room, 1 Queen Bed (High Floor)', 'Deluxe King Room', 81), ('Standard Room, Partial Ocean View (Waikiki Tower) - No Resort Fee', 'Standard Room With Ocean View', 91), ('Standard Room, Lagoon View', 'Standard King Room', 84), ('Room, 1 King Bed, Ocean View', 'Accessible Club Ocean View Suite With One King Bed', 84), ('Room, 2 Double Beds', 'Accessible Partial Ocean View With Two Double Beds', 76), ('Junior Suite, 1 King Bed, Accessible (Roll-in Shower)', 'King Parlor Suite', 74), ('Room, 2 Double Beds, City View', 'Luxury Double Room', 76), ('Room, 2 Double Beds, Partial Ocean View', 'Kona Tower Partial Ocean View', 77), ('Standard Room, Partial Ocean View (Waikiki Tower) - No Resort Fee', 'Room With Ocean View', 86), ('Deluxe Room, 2 Queen Beds', 'Deluxe Queen Room - High Floor With Free Wi-Fi', 83), ('Room, Partial Ocean View', 'King Or Two Queen Room With Ocean View', 79), ('Room, 1 King Bed, Ocean View', 'Alii Tower Ocean View With King Bed', 84), ('Standard Room, Ocean View', 'Standard Room Dolphin Lagoon View', 86), ('Room, 1 King Bed, Non Smoking, Business Lounge Access (Fairmont Gold)', 'Business King Room - Exclusive access to Gold Floor Lounge', 80), ('Room, 2 Double Beds, Ocean View (Diamond Head)', 'Double Room with Two Double Beds', 78), ('Suite, 1 King Bed (Parlor)', 'King Suite', 100), ('Signature Room, 1 King Bed', 'Signature Double', 72), ('Room, 1 King Bed, Pool View', 'Deluxe King Room', 72), ('Deluxe Room, 1 King Bed, Non Smoking', 'King Room', 100), ('Room, 2 Double Beds, Partial Ocean View', 'Accessible Partial Ocean View With Two Double Beds', 90), ('Standard Room, Mountain View (City View - Kona Tower) - No Resort Fee', 'Standard King Room', 84), ('Premium Room, 2 Queen Beds', 'Premium Two Queen', 87), ('Room, 2 Double Beds, Ocean View (Diamond Head)', 'Partical Ocean View Room', 77), ('Traditional Double Room, 2 Double Beds', 'Double Room with Two Double Beds', 78), ('Room, Accessible', 'Junior Suite - Accessible Roll-in Shower', 80), ('Junior Suite, 1 King Bed with Sofa Bed', 'King Suite', 100), ('Room, 1 King Bed, Accessible, View (Rainbow, Bathtub)', 'King Room With Pool View', 74), ('Room, 1 King Bed, Non Smoking, Business Lounge Access (Fairmont Gold)', 'Gold King Suite', 75), ('Club Room, City View (Club Lounge Access for 2 guests)', 'Room With City View', 85), ('Room, 2 Double Beds', 'Business Double Room With Two Double Beds', 94), ('Room, 1 Queen Bed, City View', 'Club Level King Or Queen Room with City View', 87), ('Junior Suite, 1 King Bed with Sofa Bed', 'King Parlor Suite', 74), ('Deluxe Room, 1 Queen Bed (High Floor)', 'Deluxe King Or Queen Room', 81), ('Room, 1 Queen Bed, City View', 'Queen Room With City View', 89), ('Club Room, 1 King Bed, Oceanfront', 'Deluxe King Room', 72), ('Room, 1 King Bed', 'Executive King Room', 75), ('City Room, City View', 'King Room With Pool View', 78), ('Room, 1 King Bed, Pool View', 'King Or Two Queen Room With Ocean View', 72), ('Room, 2 Queen Beds, Garden View', 'Queen Room With Two Queen Beds and Garden View', 96), ('Room, 2 Double Beds, Ocean View (Diamond Head)', 'Room With Ocean View', 86), ('Luxury Room, 1 King Bed, Non Smoking', 'Luxury Double Room', 76), ('Room, 1 King Bed', 'King Room - Disability Access', 75), ('Club Suite, 1 King Bed, Accessible, Ocean View', 'King Suite', 100), ('Double Room', 'Partial Ocean View With Two Double Beds', 71), ('Regency Club, Ocean View', 'Regency Club Ocean View', 100), ('Room, 1 King Bed, Ocean View (Alii)', 'Alii Tower Ocean View With King Bed', 87), ('Luxury Room, 2 Queen Beds (Prestige)', 'Luxury Double Room', 76), ('Signature Room, 2 Queen Beds', 'Signature Two Queen', 88), ('Signature Room, 1 King Bed', 'Signature One King', 88), ('Club Suite, 1 King Bed, Accessible, Ocean View', 'Club Ocean Front With One King Bed', 72), ('Deluxe Room', 'Corner Deluxe Studio', 71), ('Deluxe Room, 1 King Bed', 'King Room', 100), ('Room, 1 King Bed', 'Club King Room With Free Wi-Fi', 75), ('Room, 2 Queen Beds, City View', 'Luxury Queen Room With Two Queen Beds', 71), ('Club Room, 1 King Bed', 'Club Ocean Front With One King Bed', 79), ('Signature Room, 1 King Bed, Non Smoking', 'Signature One King', 88), ('Premier Room, 1 King Bed (Royal Club)', 'Club One King', 82), ('Luxury Room, 1 Queen Bed, Non Smoking', 'Luxury Double Room', 76), ('Room, 2 Queen Beds (Waikiki View)', 'Queen Room', 100), ('Room, 2 Double Beds, Accessible, Partial Ocean View', 'Double Room with Two Double Beds', 78), ('Fairmont Gold, Suite, 1 King Bed, Non Smoking', 'Gold King Suite', 100), ('Standard Room, Partial Ocean View (Waikiki Tower) - No Resort Fee', 'Standard King Room', 84), ('City Room, City View', 'Room With City View', 100), ('Room, 1 King Bed, Pool View', 'Deluxe King Or Queen Room with Lake View', 72), ('Deluxe Room, 2 Queen Beds', 'Premier Queen Room With Two Queen Beds', 77), ('Standard Room, Partial Ocean View (Kona Tower) - No Resort Fee', 'Waikiki Tower Ocean View', 80), ('Club Room, 1 King Bed', 'Royal Club Premier Room - One King Bed', 95), ('Double Room', 'Deluxe Double Room', 100), ('Standard Room, Ocean View', 'Standard Room With Ocean View', 100), ('Room, 1 King Bed, City View', 'Deluxe King Or Queen Room with Lake View', 72), ('Room, 2 Double Beds, City View', 'Queen Room With City View', 72), ('Room, 1 King Bed, City View', 'Club Level King Or Queen Room with City View', 86), ('Club Suite, 1 King Bed, Accessible, Ocean View', 'Alii Tower Resort View With King Bed - Mobility Accessible Tub', 72), ('Room, 1 Queen Bed, City View', 'Queen Room With Two Queen Beds and City View', 87), ('Room, 2 Double Beds, Partial Ocean View', 'Partical Ocean View Room', 77), ('City Room, City View', 'Room With Ocean View', 78), ('Room, 1 Queen Bed, City View', 'Queen Room With Two Queen Beds and Waikiki View', 73), ('Deluxe Room, Corner', 'Deluxe Room - Two Queen Beds', 76), ('Room, 1 King Bed, Ocean View', 'Rainbow Tower Ocean View With King Bed - Mobility Accessible Tub  ', 84), ('Junior Suite, 1 King Bed, Accessible (Roll-in Shower)', 'Standard King Roll-in Shower Accessible', 87), ('Deluxe Room, 1 King Bed', 'Deluxe Room - One King Bed', 95), ('Room, Ocean View ', 'Club Level King Or Queen Room with Water View', 75), ('Room, Ocean View ', 'King Or Two Queen Room With Ocean View', 100), ('Room, 2 Double Beds, City View', 'Room With City View', 85), ('Room, Partial Ocean View', 'Partial Ocean View With Two Double Beds', 88), ('Club Room, 2 Queen Beds', 'Club Level King Or Queen Room with Water View', 81), ('Luxury Room, 2 Queen Beds (Prestige)', 'Luxury Queen Room With Two Queen Beds', 83), ('Deluxe Suite, 1 Bedroom', 'Deluxe King Suite With Kitchenette', 71), ('Room, 2 Double Beds', 'Club Diamond Head Ocean View With Two Double Beds ', 76), ('Room, Ocean View ', 'Waikiki Tower Ocean View', 80), ('Luxury Room, 1 Queen Bed, Non Smoking', 'Luxury Queen', 100), ('Premier Twin Room', 'Premier King Room', 88), ('Luxury Room, 2 Queen Beds (Prestige)', 'Queen Room', 100), ('Standard Room, Ocean View (Waikiki Tower) - No Resort Fee', 'Standard Room With Mountain View', 72), ('Room, 2 Double Beds, Accessible, Partial Ocean View', 'Partial Ocean View With Two Double Beds', 87), ('Standard Room, Ocean View', 'Standard Room With Mountain View', 86), ('Room, 2 Queen Beds (Waikiki View)', 'Queen Room With Two Queen Beds and City View', 80), ('Deluxe Room, Corner', 'Deluxe Double Room', 78), ('Suite, 1 King Bed, Non Smoking', 'King Parlor Suite', 74), ('Premium Room, 1 King Bed', 'Premier King Room', 75), ('Room, 2 Queen Beds, City View', 'Queen Room', 100), ('Standard Room, Ocean View', 'Standard Room With Ocean Front View', 100), ('Deluxe Room, Lake View', 'Deluxe Double Room', 76), ('Room, 2 Double Beds, City View', 'Accessible Partial Ocean View With Two Double Beds', 73), ('Signature Room, 2 Double Beds, Non Smoking', 'Luxury Double Room', 76), ('Room, 2 Queen Beds, City View', 'Queen Room With Two Queen Beds and City View', 96), ('Room, Ocean View ', 'Standard Room Dolphin Lagoon View', 75), ('Deluxe Room', 'Deluxe Room - One King Bed', 100), ('Club Room, 2 Queen Beds', 'Queen Room With Two Queen Beds and Waikiki View', 81), ('Signature Room, 1 King Bed, Non Smoking', 'Signature Double', 72), ('Deluxe Room', 'Deluxe Suite', 71), ('Room, Partial Ocean View', 'Standard Room With Ocean Front View', 79), ('Room, 1 Queen Bed, City View', 'Club Level King Or Queen Room with Water View', 73), ('Double Room', 'Luxury Double Room', 100), ('Room, 1 King Bed, Accessible', 'Deluxe King Room', 72), ('Room, 1 King Bed, Ocean View', 'Club Ocean Front Suite King Bed', 74), ('Room, 1 King Bed, Non Smoking, Business Lounge Access (Fairmont Gold)', 'Deluxe King Room', 72), ('Club Room, 1 King Bed', 'Club One King', 82), ('Room, Ocean View', 'Queen Room With City View', 75), ('Suite, 1 King Bed (Parlor)', 'Accessible Club Ocean View Suite With One King Bed', 76), ('Junior Suite, 1 King Bed, Accessible (Roll-in Shower)', 'King Suite', 100), ('Club Room, 1 King Bed', 'Deluxe Room - One King Bed', 79), ('Room, 1 Queen Bed, Accessible, Bathtub', 'Queen Room', 100), ('Room, 1 King Bed, Accessible', 'Alii Tower Resort View With King Bed - Mobility Accessible Tub', 84), ('Room, Ocean View ', 'Queen Room With Two Queen Beds and City View', 75), ('Deluxe Room, 2 Queen Beds', 'Queen Room With Two Queen Beds and Garden View', 77), ('Room, 1 King Bed, Pool View', 'Club Level King Or Queen Room with City View', 72), ('Suite, 1 Bedroom', 'One - Bedroom Suite', 93), ('Room, Ocean View ', 'Partial Ocean View With Two Double Beds', 80), ('Premier Twin Room', 'Royal Club Premier Room - One King Bed', 83), ('Premium Room, 1 King Bed', 'King Bed - Location Room (19th to 25th Floors)', 72), ('Junior Suite, 1 King Bed with Sofa Bed', 'Gold King Suite', 80), ('Room, 1 King Bed, City View', 'King Or Two Queen Room With Ocean View', 72), ('Room, 2 Double Beds, Partial Ocean View', 'Club Diamond Head Ocean View With Two Double Beds ', 75), ('Grand Corner King Room, 1 King Bed', 'King Room', 100), ('Room, 2 Queen Beds, Garden View', 'Queen Room', 100), ('Room, 1 King Bed, Ocean View (Alii)', 'Room With Ocean View', 86), ('Regency Club, Ocean View', 'Regency Club Mountain View', 86), ('Room, 1 King Bed, Oceanfront (Rainbow)', 'King Room', 100), ('Studio, 1 King Bed with Sofa bed, Corner', 'Corner Deluxe Studio', 79), ('City Room, City View', 'Queen Room With City View', 100), ('Room, 1 King Bed, Resort View (Alii)', 'Alii Tower Resort View With King Bed - Mobility Accessible Tub', 88), ('Room, Ocean View ', 'Room With City View', 75), ('Room, 1 Queen Bed', 'Queen Room - Disability Access', 77), ('Standard Room, Partial Ocean View (Kona Tower) - No Resort Fee', 'Standard Room With Ocean View', 91), ('Deluxe Suite', 'Deluxe Suite', 100), ('Room, 1 King Bed, Pool View', 'King Room With Pool View', 88), ('Room, 1 King Bed, Ocean View (Alii)', 'King Room With Pool View', 74), ('Luxury Room, 2 Queen Beds (Prestige)', 'Luxury King', 71), ('Deluxe Room, Corner', 'Deluxe Room (Non Refundable)', 76), ('Room, 2 Double Beds, Non Smoking', 'Double Room with Two Double Beds', 78), ('Standard Room, Partial Ocean View (Waikiki Tower) - No Resort Fee', 'Waikiki Tower Partial Ocean View', 100), ('Business Double Room, 2 Double Beds', 'Business Double Room With Two Double Beds', 96), ('Standard Room, Partial Ocean View (Waikiki Tower) - No Resort Fee', 'Kona Tower Partial Ocean View', 91), ('Luxury Room, 2 Double Beds, Non Smoking', 'Double Room with Two Double Beds', 78), ('Deluxe Room, 2 Queen Beds', 'Luxury Queen Room With Two Queen Beds', 77), ('Room, 1 King Bed, Oceanfront (Rainbow)', 'Deluxe King Room', 72), ('Room, 1 King Bed, Ocean View', 'Deluxe King Room', 72), ('Suite, 1 King Bed, Non Smoking', 'Gold King Suite', 80), ('Room, 1 Queen Bed', 'Club Queen Room With Two Queen Beds and Free Wi-Fi', 77), ('Club Room, 2 Queen Beds', 'Queen Room With Two Queen Beds and City View', 81), ('Room, Partial Ocean View', 'Accessible Partial Ocean View With Two Double Beds', 88), ('City Room, City View', 'City View With One King Bed', 78), ('Room, 2 Queen Beds, City View', 'Deluxe Room - Two Queen Beds', 73), ('Room, 1 King Bed', 'King Room With Pool View', 75), ('Room, 1 King Bed, Accessible', 'King Room - Disability Access', 72), ('Room, 2 Double Beds, Accessible, Partial Ocean View', 'Deluxe Double Room', 76), ('Regency Club, Mountain View', 'Regency Club Ocean View', 85), ('Signature Room, 2 Queen Beds', 'Signature King', 78), ('Room, 1 King Bed', 'King Bed - Location Room (19th to 25th Floors)', 93), ('Room, Ocean View ', 'Club Level King Or Queen Room with City View', 75), ('Room, 1 King Bed, Pool View', 'Ocean View Room With King Bed', 84), ('Deluxe Room', 'Deluxe King Suite With Sofa Bed', 71), ('Standard Room, Partial Ocean View (Kona Tower) - No Resort Fee', 'Room With Ocean View', 86), ('Room, 1 King Bed, Accessible', 'Accessible Club Ocean View Suite With One King Bed', 84), ('Premier Room, 1 King Bed (Royal Club)', 'King Room', 100), ('Room, 1 King Bed', 'Classic King Room', 75), ('Room, 1 King Bed', 'Premier King Room', 75), ('Standard Room, Ocean View (Waikiki Tower) - No Resort Fee', 'Room With Ocean View', 86), ('Standard Room, 1 King Bed, Accessible', 'Standard King Room', 100), ('Room, 1 Queen Bed', 'Premium Queen Room With Free Wi-Fi', 77), ('Standard Room, Mountain View (Scenic)', 'Standard Room With Ocean Front View', 75), ('Junior Suite, 1 King Bed, Accessible (Roll-in Shower)', 'Junior Suite - Accessible Roll-in Shower', 100), ('Deluxe Room, City View', 'Deluxe King Room', 81), ('Premier Room, 1 King Bed (Royal Club)', 'Deluxe King Room', 72), ('Deluxe Room, 2 Queen Beds', 'Club Queen Room With Two Queen Beds and Free Wi-Fi', 77), ('City Room, City View', 'Queen Room With Two Queen Beds and Waikiki View', 78), ('Room, Ocean View', 'Room With City View', 75), ('Room, 1 King Bed', 'King Room', 100), ('Deluxe Suite, 1 King Bed, Non Smoking, Kitchen', 'King Parlor Suite', 74), ('Room, 2 Queen Beds, Garden View', 'Deluxe Room - Two Queen Beds', 73), ('Standard Room, Ocean View', 'King Or Two Queen Room With Ocean View', 77), ('Deluxe Room', 'Deluxe Room (Non Refundable)', 100), ('Standard Room, Partial Ocean View (Waikiki Tower) - No Resort Fee', 'Standard Room Dolphin Lagoon View', 71), ('Room, 2 Double Beds, Accessible, Partial Ocean View', 'Accessible Partial Ocean View With Two Double Beds', 92), ('Club Suite, 1 King Bed, Accessible, Ocean View', 'Club One King', 82), ('Room, 1 King Bed, Non Smoking (LEISURE)', 'Deluxe King Room', 72), ('Signature Room, 2 Queen Beds', 'Signature Double', 72), ('Room, 1 King Bed', 'Grand Corner King Room', 75), ('Double Room', 'Signature Double', 71), ('Room, Ocean View', 'Rainbow Tower Ocean View With King Bed - Mobility Accessible Tub  ', 80), ('Signature Room, 2 Queen Beds', 'Club Queen Room With Two Queen Beds and Free Wi-Fi', 71), ('Room, 1 King Bed, Resort View (Alii)', 'Alii Tower Ocean View With King Bed', 72), ('Standard Room, Partial Ocean View (Kona Tower) - No Resort Fee', 'Standard Room With Mountain View', 72), ('Deluxe Room', 'Deluxe King Suite With Kitchenette', 71), ('Deluxe Suite, 1 King Bed, Non Smoking, Kitchen', 'Deluxe King Suite With Sofa Bed', 81), ('Club Room, 1 King Bed', 'Ocean View Room With King Bed', 79), ('King Room, Suite, 1 King Bed with Sofa bed', 'Gold King Suite', 80), ('Deluxe Suite, 1 Bedroom', 'Deluxe One - Bedroom Suite', 95), ('Deluxe Room', 'Deluxe King Or Queen Room', 100), ('Standard Room, Partial Ocean View (Waikiki Tower) - No Resort Fee', 'Standard Room With Mountain View', 72), ('Club Room, 1 King Bed', 'Club Level King Or Queen Room with City View', 82), ('Club Room, Premium 2 Queen Beds', 'Premium Queen Room With Free Wi-Fi', 75), ('Premier Room, 1 King Bed', 'Ocean View Room With King Bed', 72), ('Standard Room, Ocean View (Waikiki Tower) - No Resort Fee', 'Waikiki Tower Partial Ocean View', 86), ('Club Suite, 1 King Bed, Accessible, Ocean View', 'Rainbow Tower Ocean View With King Bed - Mobility Accessible Tub  ', 82), ('Junior Suite, 1 King Bed, Accessible (Roll-in Shower)', 'Junior Suite', 100), ('Deluxe Room, 2 Queen Beds', 'Deluxe King Room', 81), ('Premium Room, 2 Queen Beds', 'Luxury Queen Room With Two Queen Beds', 75), ('Room, Ocean View', 'Ocean View Room With King Bed', 100), ('Junior Suite, 1 King Bed, Accessible (Roll-in Shower)', 'Gold King Suite', 80), ('Standard Room, Mountain View (City View - Kona Tower) - No Resort Fee', 'Standard Room With Mountain View', 92), ('Deluxe Room, City View', 'Deluxe Double Room', 76), ('Room, 1 King Bed (19th to 25 Floors)', 'King Room', 100), ('Deluxe Room, 1 Queen Bed (High Floor)', 'Deluxe Queen Room - High Floor With Free Wi-Fi', 90), ('Signature Room, 2 Queen Beds', 'Queen Room With Two Queen Beds and Waikiki View', 71), ('Deluxe Suite, 1 Bedroom', 'Deluxe Suite', 100), ('King Room, Suite, 1 King Bed with Sofa bed', 'King Suite', 100), ('Standard Room, Oceanfront', 'Standard King Room', 84), ('Premium Room, 2 Queen Beds', 'Queen Room With Two Queen Beds and City View', 75), ('Double Room', 'City View With Two Double Beds', 71), ('Room, Ocean View', 'King Room With Pool View', 75), ('Club Room, 1 King Bed', 'King Room', 100), ('Room, 1 King Bed, City View', 'City View With One King Bed', 84), ('Luxury Room, 1 Queen Bed, Non Smoking', 'Queen Room', 100), ('Deluxe Room, 1 King Bed', 'Deluxe King Suite With Sofa Bed', 81), ('Room, 1 King Bed, Resort View (Alii)', 'Deluxe King Room', 72), ('Room, Ocean View', 'Standard Room With Ocean Front View', 100), ('Standard Room, Partial Ocean View (Kona Tower) - No Resort Fee', 'Standard Room Dolphin Lagoon View', 71), ('Standard Room, Ocean View (Waikiki Tower) - No Resort Fee', 'Waikiki Tower Ocean View', 100), ('Room, 1 King Bed, Ocean View', 'Standard Room With Ocean View', 73), ('Premier Room, 1 King Bed', 'Deluxe Room - One King Bed', 72), ('Room, 1 King Bed', 'Standard King Room', 75), ('Room, Ocean View', 'Standard Room Dolphin Lagoon View', 75), ('Premium Room, 2 Queen Beds', 'Queen Room With Two Queen Beds and Waikiki View', 75), ('Room, 2 Double Beds', 'Partial Ocean View With Two Double Beds', 76), ('Room, 1 King Bed, City View', 'Ocean View Room With King Bed', 84), ('Room, 1 King Bed', 'Deluxe King Or Queen Room', 75), ('Double Room', 'Club Diamond Head Ocean View With Two Double Beds ', 71), ('Room, 1 Queen Bed', 'Queen Room With Two Queen Beds and Waikiki View', 77), ('Premier Room, 1 King Bed', 'Premier King Room', 100), ('Grand Corner King Room, 1 King Bed', 'Corner King Studio', 76), ('Room, 2 Double Beds, City View', 'Queen Room With Two Queen Beds and City View', 81), ('Room, 1 King Bed, Ocean View (Alii)', 'Alii Tower Resort View With King Bed', 73), ('Room, Ocean View ', 'Standard Room With Mountain View', 75), ('Deluxe Room, 1 King Bed, Non Smoking', 'Deluxe Double Room', 76), ('King Room, Suite, 1 King Bed with Sofa bed', 'King Room', 100), ('Room, Ocean View ', 'Accessible Club Ocean View Suite With One King Bed', 80), ('Standard Room, Partial Ocean View (Kona Tower) - No Resort Fee', 'Standard King Room', 84), ('Deluxe Room, 2 Queen Beds', 'Deluxe Double Room', 76), ('Premium Room, 1 King Bed', 'Ocean View Room With King Bed', 72), ('Room, 1 King Bed, Resort View (Alii)', 'Alii Tower Resort View With King Bed', 88), ('Deluxe Room, 2 Queen Beds', 'Queen Room With Two Queen Beds and City View', 77), ('Deluxe Room, 1 King Bed', 'Deluxe Room - Two Queen Beds', 71), ('Room, 1 Queen Bed', 'King Or Two Queen Room With Ocean View', 77), ('Double Room', 'Double Room with Two Double Beds', 100), ('Signature Room, 1 King Bed, Non Smoking', 'Signature King', 100), ('Room, Ocean View ', 'Standard Room With Ocean View', 100), ('Room, 1 King Bed, Ocean View', 'King Room With Pool View', 74), ('Room, 1 Queen Bed', 'Standard Queen Room With One Queen Bed', 93), ('Deluxe Room, 1 King Bed, Non Smoking', 'Deluxe King Room', 100), ('Signature Room, 1 King Bed', 'King Room', 100), ('Room, 2 Double Beds (19th to 25th Floors)', 'Luxury Double Room', 76), ('Standard Room, Mountain View (Scenic)', 'Standard Room Dolphin Lagoon View', 72), ('Room, 1 King Bed, Accessible, Resort View (Alii, Bathtub)', 'King Room', 100), ('Room, 1 King Bed', 'Club Level King Or Queen Room with City View', 75), ('King Room, Suite, 1 King Bed with Sofa bed', 'Accessible Club Ocean View Suite With One King Bed', 76), ('Premium Room, 2 Queen Beds', 'Queen Room', 100), ('Room, Ocean View', 'Queen Room With Two Queen Beds and Garden View', 75), ('Deluxe Suite, 1 King Bed, Non Smoking, Kitchen', 'Deluxe Suite', 100), ('Premium Room, 2 Queen Beds', 'Club Premium Two Queen', 74), ('Room, 1 King Bed', 'Club Level King Or Queen Room with Water View', 75), ('Traditional Double Room, 2 Double Beds', 'Deluxe Double Room', 76), ('Deluxe Room, Corner', 'Corner Deluxe Studio', 84), ('Room, Ocean View', 'Queen Room With Two Queen Beds and City View', 75), ('Premium Room, 1 King Bed', 'King Room', 100), ('Standard Room, Mountain View (City View - Kona Tower) - No Resort Fee', 'Room With City View', 85), ('Suite, 1 King Bed (Parlor)', 'King Parlor Suite', 100), ('Deluxe Suite, 1 King Bed, Non Smoking, Kitchen', 'Gold King Suite', 80), ('Room, 2 Double Beds (19th to 25th Floors)', 'Deluxe Double Room', 76), ('Room, Ocean View', 'Kona Tower Partial Ocean View', 80), ('Room, 2 Queen Beds, City View', 'Club Level King Or Queen Room with Water View', 71), ('Grand Corner King Room, 1 King Bed', 'Deluxe King Room', 72), ('Room, 1 King Bed, City View', 'Club Level King Or Queen Room with Water View', 72), ('Luxury Room, 2 Double Beds, Non Smoking', 'Deluxe Double Room', 76), ('Deluxe Room, Corner', 'Deluxe Queen Room - High Floor With Free Wi-Fi', 76), ('Room, 1 King Bed, Accessible', 'Rainbow Tower Ocean View With King Bed - Mobility Accessible Tub  ', 84), ('Room, 1 King Bed, Non Smoking, Business Lounge Access (Fairmont Gold)', 'Business King Room', 100), ('Room, 1 King Bed', 'Deluxe Room - One King Bed', 93), ('Room, 2 Queen Beds, City View', 'Club Level King Or Queen Room with City View', 85), ('Club Room, 2 Queen Beds', 'Luxury Queen Room With Two Queen Beds', 81), ('Room, 2 Double Beds', 'Two Double Beds - Location Room (19th to 25th Floors)', 94), ('Room, 2 Double Beds, Accessible, Partial Ocean View', 'Partical Ocean View Room', 77), ('Club Suite, 1 King Bed, Accessible, Ocean View', 'Gold King Suite', 80), ('Club Room, 2 Queen Beds', 'Club Level King Or Queen Room with City View', 81), ('Room, 1 King Bed, Ocean View (Alii)', 'Partical Ocean View Room', 77), ('Room, 1 King Bed, Ocean View (Alii)', 'Alii Tower Resort View With King Bed - Mobility Accessible Tub', 73), ('City Room, City View', 'Deluxe King Or Queen Room with Lake View', 78), ('Room, 1 King Bed, Non Smoking (LEISURE)', 'King Room', 100), ('Room, 1 King Bed', 'Premium King Room With Free Wi-Fi', 75), ('Room, 1 King Bed', 'Deluxe King Room', 75), ('Luxury Room, 2 Double Beds, Non Smoking', 'Luxury Double Room', 100), ('City Room, City View', 'Kona Tower City / Mountain View', 78), ('Standard Room, Oceanfront', 'Standard Room With Ocean View', 75), ('High-Floor Premium Room, 1 King Bed', 'Deluxe King Room', 72), ('Room, 1 Queen Bed', 'Club Level King Or Queen Room with City View', 77), ('Luxury Room, 1 Queen Bed, Non Smoking', 'Luxury Queen Room With Two Queen Beds', 76), ('Club Room, 2 Queen Beds', 'Deluxe Room - Two Queen Beds', 81), ('Room, 2 Queen Beds, City View', 'Queen Room With Two Queen Beds and Garden View', 85), ('Signature Suite, 1 Bedroom', 'Signature King', 78), ('Room, 1 Queen Bed', 'Club Level King Or Queen Room with Water View', 77), ('Premium Room, 1 Queen Bed', 'Standard Queen Room With One Queen Bed', 74), ('Standard Room, Ocean View', 'Room With Ocean View', 86), ('Room, Ocean View ', 'Ocean View Room With King Bed', 100), ('High-Floor Premium Room, 1 King Bed', 'High-Floor Premium King Room', 100), ('Room, 2 Double Beds', 'Luxury Double Room', 76), ('Room, 2 Queen Beds, City View', 'Club Queen Room With Two Queen Beds and Free Wi-Fi', 71), ('Suite, 1 King Bed, Non Smoking', 'King Suite', 100), ('Signature Room, 2 Queen Beds', 'Queen Room', 100), ('Room, 1 Queen Bed, City View', 'King Or Two Queen Room With Ocean View', 73), ('Room, 2 Double Beds', 'City View With Two Double Beds', 76), ('Room, 2 Double Beds, City View', 'City View With Two Double Beds', 86), ('Premium Room, 2 Queen Beds', 'Premium Queen Room With Free Wi-Fi', 84), ('Executive Room, 1 King Bed, Non Smoking', 'Executive King Room', 100), ('Standard Room, Partial Ocean View (Waikiki Tower) - No Resort Fee', 'Waikiki Tower Ocean View', 100), ('Premium Room, 1 Queen Bed', 'Queen Room', 100), ('Business Double Room, 2 Double Beds', 'Deluxe Double Room', 76), ('Room, 1 King Bed, Ocean View (Alii)', 'Ocean View Room With King Bed', 91), ('Deluxe Suite, 1 Bedroom', 'One Bedroom Suite', 87), ('Deluxe Room, Corner', 'Deluxe King Room', 81), ('Deluxe Suite, 1 King Bed, Non Smoking, Kitchen', 'Deluxe King Room', 81), ('Premier Room, 1 King Bed (Royal Club)', 'Royal Club Premier Room - One King Bed', 97), ('Room, 1 King Bed', 'High-Floor Premium King Room', 75), ('Club Room, 1 King Bed', 'King Bed - Location Room (19th to 25th Floors)', 79), ('Room, 1 Queen Bed', 'Deluxe Room - Two Queen Beds', 77), ('Deluxe Room, 1 King Bed', 'Deluxe King Or Queen Room with Lake View', 84), ('Room, 2 Double Beds', 'Double Room with Two Double Beds', 94), ('Standard Room, Partial Ocean View (Waikiki Tower) - No Resort Fee', 'Standard Room With Ocean Front View', 81), ('Premier Room, 1 King Bed', 'Deluxe King Room', 72), ('Junior Suite, 1 King Bed with Sofa Bed', 'Accessible Club Ocean View Suite With One King Bed', 73), ('Room, 1 Queen Bed, City View', 'Deluxe King Or Queen Room with Lake View', 73), ('Room, 1 King Bed, Pool View', 'Club Level King Or Queen Room with Water View', 72), ('Room, 2 Double Beds, Partial Ocean View', 'Partial Ocean View With Two Double Beds', 90), ('Room, Ocean View', 'Partical Ocean View Room', 100), ('Room, Ocean View', 'Standard Room With Ocean View', 100), ('Room, 2 Queen Beds, City View', 'Deluxe King Or Queen Room with Lake View', 71), ('Luxury Room, 2 Double Beds, Non Smoking', 'Luxury King', 71), ('Deluxe Room, City View', 'Queen Room With Two Queen Beds and City View', 80), ('Premium Room, 1 King Bed', 'High-Floor Premium King Room', 85), ('Double Room', 'Business Double Room With Two Double Beds', 100), ('Premium Room, 1 Queen Bed', 'Premium Queen Room With Free Wi-Fi', 86), ('Standard Room, Mountain View (Scenic)', 'Standard Room With Mountain View', 92), ('Room, 2 Double Beds, Ocean View (Diamond Head)', 'Club Diamond Head Ocean View With Two Double Beds ', 91), ('Room, Ocean View', 'King Or Two Queen Room With Ocean View', 100), ('Room, 1 King Bed', 'Business King Room', 75), ('Premium Room, 1 King Bed', 'Deluxe Room - One King Bed', 72), ('Club Room, 2 Queen Beds', 'Queen Room With Two Queen Beds and Garden View', 81), ('Room, 2 Double Beds, City View', 'Deluxe Double Room', 76), ('Standard Room, Mountain View (City View - Kona Tower) - No Resort Fee', 'Queen Room With City View', 72), ('Signature Room, 1 King Bed, Non Smoking', 'Deluxe King Room', 72), ('Room, 2 Queen Beds, Garden View', 'Queen Room With Two Queen Beds and Waikiki View', 82), ('Club Room, Premium 2 Queen Beds', 'Queen Room', 100), ('Room, 2 Queen Beds, City View', 'King Or Two Queen Room With Ocean View', 71), ('Deluxe Room', 'Deluxe Double Room', 100), ('Room, 2 Double Beds, Accessible, Partial Ocean View', 'Waikiki Tower Partial Ocean View', 72), ('Classic Room, 1 King Bed', 'Classic King Room', 100), ('Deluxe Suite', 'Deluxe King Suite With Kitchenette', 100), ('Room, 1 King Bed, City View', 'Room With City View', 85), ('Deluxe Room, City View', 'Deluxe King Or Queen Room with Lake View', 86), ('Deluxe Room, 2 Queen Beds', 'Queen Room With Two Queen Beds and Waikiki View', 77), ('Premium Room, 1 Queen Bed', 'Premier Queen Room With Two Queen Beds', 71), ('Standard Room, Lagoon View', 'Standard Room With Ocean View', 84), ('Deluxe Room, Corner', 'Deluxe Room - One King Bed', 76), ('Room, 2 Queen Beds (Waikiki View)', 'Queen Room With Two Queen Beds and Garden View', 80), ('Fairmont Gold, Suite, 1 King Bed, Non Smoking', 'King Suite', 100), ('Room, Partial Ocean View', 'Ocean View Room With King Bed', 79), ('Club Suite, 1 King Bed, Accessible, Ocean View', 'Club Ocean Front Suite King Bed', 89), ('Signature Suite, 1 Bedroom', 'One Bedroom Suite', 87), ('Standard Room, Ocean View', 'Ocean View Room With King Bed', 77), ('Room, Ocean View', 'Accessible Club Ocean View Suite With One King Bed', 80), ('Deluxe Room, Lake View', 'Deluxe King Room', 81), ('Premium Room, 1 King Bed', 'Deluxe King Room', 72), ('Standard Room, Lagoon View', 'Standard Room Dolphin Lagoon View', 100), ('Standard Room, Partial Ocean View (Kona Tower) - No Resort Fee', 'Kona Tower Partial Ocean View', 100), ('Room, 1 Queen Bed', 'Queen Room With City View', 77), ('Standard Room, Ocean View (Waikiki Tower) - No Resort Fee', 'Standard Room Dolphin Lagoon View', 71), ('Executive Room, 1 King Bed, Non Smoking', 'Deluxe King Room', 72), ('Room, Ocean View', 'Club Diamond Head Ocean View With Two Double Beds ', 80), ('Room, Partial Ocean View', 'Standard Room With Ocean View', 79), ('Room, Ocean View ', 'Club Diamond Head Ocean View With Two Double Beds ', 80), ('Deluxe Room, 1 King Bed, Non Smoking', 'Deluxe King Or Queen Room', 78), ('Room, 1 King Bed, Accessible', 'King Room', 100), ('Club Room, Premium 2 Queen Beds', 'Club Premium Two Queen', 90), ('Fairmont Gold, Suite, 1 King Bed, Non Smoking', 'King Parlor Suite', 74), ('Room, Ocean View', 'Deluxe King Or Queen Room with Lake View', 75), ('Room, Ocean View ', 'Queen Room With Two Queen Beds and Garden View', 75), ('Room, 1 Queen Bed, Non Smoking (Fairmont Room)', 'Queen Room', 100), ('Room, 1 King Bed, Ocean View', 'Ocean View Room With King Bed', 96), ('Room, 2 Double Beds (19th to 25th Floors)', 'Two Double Beds - Location Room (19th to 25th Floors)', 97), ('Room, 1 King Bed, Non Smoking, Business Lounge Access (Fairmont Gold)', 'King Room - Disability Access', 74), ('Premier Room, 1 King Bed', 'King Bed - Location Room (19th to 25th Floors)', 72), ('Room, 1 King Bed, Accessible, View (Rainbow, Bathtub)', 'King Room', 100), ('Premium Room, 1 Queen Bed', 'Premium Two Queen', 87), ('Classic Room, 1 King Bed', 'King Room', 100), ('Standard Room, 1 King Bed, Accessible', 'King Room', 100), ('Deluxe Room, 2 Queen Beds', 'Deluxe King Or Queen Room with Lake View', 83), ('Premium Room, 2 Queen Beds', 'Deluxe Room - Two Queen Beds', 75), ('Club Suite, 1 King Bed, Oceanfront (No Resort Charge)', 'Club Ocean Front Suite King Bed', 76), ('Room, 1 King Bed, Pool View', 'King Room', 100), ('Room, 1 King Bed', 'Deluxe King Or Queen Room with Lake View', 75), ('Classic Room, 1 King Bed', 'Deluxe King Room', 72), ('Room, Ocean View ', 'Queen Room With City View', 75), ('Studio, 1 King Bed with Sofa bed, Corner', 'Deluxe King Suite With Sofa Bed', 73), ('Room, 2 Double Beds, Partial Ocean View', 'Deluxe Double Room', 76), ('Room, 1 King Bed, Accessible, Resort View (Alii, Bathtub)', 'King Room With Pool View', 74), ('Room, 2 Queen Beds (Waikiki View)', 'Queen Room With Two Queen Beds and Waikiki View', 97), ('Room, 2 Double Beds, City View', 'Business Double Room With Two Double Beds', 73), ('Standard Room, Ocean View', 'Partical Ocean View Room', 77), ('City Room, City View', 'Queen Room With Two Queen Beds and Garden View', 78), ('Room, Ocean View ', 'Partical Ocean View Room', 100), ('Deluxe Room, 1 King Bed', 'Deluxe King Or Queen Room', 84), ('Room, 1 King Bed, Ocean View', 'Room With Ocean View', 86), ('Standard Room, Ocean View (Waikiki Tower) - No Resort Fee', 'Kona Tower Partial Ocean View', 71), ('Room, Ocean View', 'Accessible Partial Ocean View With Two Double Beds', 80), ('Classic Room, 1 King Bed', 'King Bed - Location Room (19th to 25th Floors)', 72), ('Room, Ocean View ', 'Room With Ocean View', 100), ('City Room, City View', 'Standard Room With Ocean View', 78), ('Signature Room, 2 Queen Beds', 'Premier Queen Room With Two Queen Beds', 71), ('Luxury Room, 2 Queen Beds (Prestige)', 'Luxury Queen', 100), ('Room, 1 King Bed, Ocean View (Alii)', 'King Room', 100), ('Room, 1 King Bed (19th to 25 Floors)', 'Deluxe King Room', 72), ('Room, Ocean View', 'Waikiki Tower Partial Ocean View', 80), ('Room, Partial Ocean View', 'Room With Ocean View', 86), ('Room, 1 King Bed, Resort View (Alii)', 'King Room With Pool View', 74), ('Room, 1 King Bed, Non Smoking, Business Lounge Access (Fairmont Gold)', 'King Room', 100), ('King Room, Suite, 1 King Bed with Sofa bed', 'Deluxe King Suite With Sofa Bed', 87), ('Room, 1 King Bed, Ocean View (Alii)', 'Deluxe King Room', 72), ('Deluxe Room, 2 Queen Beds', 'Deluxe Room - Two Queen Beds', 96), ('Room, Ocean View ', 'Alii Tower Ocean View With King Bed', 80), ('Standard Room, Mountain View (City View - Kona Tower) - No Resort Fee', 'Standard Room With Ocean View', 77), ('Room, 1 King Bed, Accessible, Resort View (Alii, Bathtub)', 'Alii Tower Resort View With King Bed', 82), ('Room, 2 Double Beds, Accessible, Partial Ocean View', 'Room With Ocean View', 86), ('Room, Ocean View', 'Waikiki Tower Ocean View', 80), ('King Room, Suite, 1 King Bed with Sofa bed', 'King Room With Pool View', 74), ('Room, Accessible', 'Alii Tower Resort View With King Bed - Mobility Accessible Tub', 80), ('Room, 1 King Bed, Ocean View (Alii)', 'King Or Two Queen Room With Ocean View', 78), ('Signature Room, 2 Queen Beds', 'Queen Room With Two Queen Beds and City View', 71), ('Business Double Room, 2 Double Beds', 'Double Room with Two Double Beds', 78), ('Deluxe Room, 1 Queen Bed (High Floor)', 'Queen Room', 100), ('King Room, Suite, 1 King Bed with Sofa bed', 'Deluxe King Room', 72), ('Room, 2 Double Beds, Partial Ocean View', 'Waikiki Tower Partial Ocean View', 72), ('King Room, Suite, 1 King Bed with Sofa bed', 'King Parlor Suite', 74), ('Junior Suite, 1 King Bed with Sofa Bed', 'Junior Suite', 100), ('City Room, City View', 'King Or Two Queen Room With Ocean View', 78), ('Deluxe Room, Corner', 'Grand Corner King Room', 76), ('Club Room, 1 King Bed', 'Accessible Club Ocean View Suite With One King Bed', 79), ('Standard Room, Mountain View (City View - Kona Tower) - No Resort Fee', 'Kona Tower City / Mountain View', 100), ('Deluxe Room, Corner', 'Deluxe King Or Queen Room with Lake View', 76), ('Room, Ocean View', 'Club Level King Or Queen Room with Water View', 75), ('Room, 2 Double Beds (19th to 25th Floors)', 'Double Room with Two Double Beds', 78), ('Signature Room, 2 Queen Beds', 'Deluxe Room - Two Queen Beds', 73), ('Room, Ocean View ', 'Deluxe King Or Queen Room with Lake View', 75), ('Deluxe Room, 1 Queen Bed (High Floor)', 'Deluxe Room - One King Bed', 77), ('Room, 2 Double Beds (19th to 25th Floors)', 'King Bed - Location Room (19th to 25th Floors)', 77), ('Deluxe Room, 2 Queen Beds', 'Deluxe Room - One King Bed', 71), ('Room, 1 Queen Bed', 'Premier Queen Room With Two Queen Beds', 77), ('Room, 2 Double Beds, Ocean View (Diamond Head)', 'Luxury Double Room', 76), ('Regency Club, Ocean View', 'Club Diamond Head Ocean View With Two Double Beds ', 79), ('Deluxe Room, 1 Queen Bed (High Floor)', 'Deluxe Double Room', 76), ('Suite, 1 Bedroom', 'Deluxe One - Bedroom Suite', 93), ('Room, 1 King Bed, City View', 'King Room With Pool View', 74), ('Deluxe Room, 1 King Bed, Non Smoking', 'Deluxe Room (Non Refundable)', 73), ('Double Room', 'Two Double Beds - Location Room (19th to 25th Floors)', 100), ('Room, 2 Double Beds, Non Smoking', 'Deluxe Double Room', 76), ('Room, 1 King Bed, City View', 'Queen Room With City View', 72), ('Standard Room, Mountain View (Scenic)', 'Standard Room With Ocean View', 77), ('Room, 2 Double Beds, Non Smoking', 'Luxury Double Room', 76), ('Room, Ocean View ', 'Rainbow Tower Ocean View With King Bed - Mobility Accessible Tub  ', 80), ('Room, 1 King Bed, Resort View (Alii)', 'Ocean View Room With King Bed', 77), ('Signature Suite, 1 Bedroom', 'One-Bedroom Suite', 87), ('Room, 2 Double Beds, City View', 'Double Room with Two Double Beds', 78), ('Signature Room, 2 Double Beds, Non Smoking', 'Double Room with Two Double Beds', 78), ('Deluxe Room, 1 King Bed', 'King Bed - Location Room (19th to 25th Floors)', 74), ('Room, 1 King Bed, Ocean View (Alii)', 'Rainbow Tower Ocean View With King Bed - Mobility Accessible Tub  ', 76), ('Room, 1 King Bed, Accessible, Resort View (Alii, Bathtub)', 'Alii Tower Resort View With King Bed - Mobility Accessible Tub', 83), ('Room, 1 Queen Bed, City View', 'Queen Room With Two Queen Beds and Garden View', 73), ('Deluxe Room, City View', 'Club Level King Or Queen Room with City View', 80), ('Room, 1 Queen Bed', 'Queen Room With Two Queen Beds and Garden View', 77), ('Deluxe Room, Corner', 'Deluxe King Or Queen Room', 76), ('Signature Room, 2 Double Beds, Non Smoking', 'Deluxe Double Room', 76), ('Room, Ocean View ', 'King Room With Pool View', 75), ('Deluxe Room, 1 King Bed', 'Deluxe Double Room', 76), ('Traditional Room, 1 King Bed', 'Deluxe King Room', 72), ('Signature Room, 2 Queen Beds', 'Luxury Queen Room With Two Queen Beds', 71), ('Room, 1 Queen Bed, City View', 'Room With City View', 85), ('Room, Ocean View', 'Alii Tower Ocean View With King Bed', 80), ('Deluxe Room', 'Deluxe King Room', 100), ('Classic Room, 1 King Bed', 'Ocean View Room With King Bed', 72), ('Club Room, Premium 2 Queen Beds', 'Deluxe Room - Two Queen Beds', 73), ('Club Room, 1 King Bed, Oceanfront', 'King Room', 100), ('Room, 2 Queen Beds (Waikiki View)', 'Queen Room With City View', 75), ('Club Room, 1 King Bed', 'Deluxe King Room', 72), ('Room, Ocean View ', 'Waikiki Tower Partial Ocean View', 80), ('Luxury Room, 1 King Bed, Non Smoking', 'King Room', 100), ('Deluxe Suite, 1 King Bed, Non Smoking, Kitchen', 'King Suite', 100), ('Standard Room, Partial Ocean View (Kona Tower) - No Resort Fee', 'Partical Ocean View Room', 77), ('Room, 1 King Bed', 'Business King Room - Exclusive access to Gold Floor Lounge', 75), ('Premium Room, 1 King Bed', 'Royal Club Premier Room - One King Bed', 72), ('Room, 2 Double Beds, City View', 'Club Diamond Head Ocean View With Two Double Beds ', 73), ('Room, Ocean View', 'Queen Room With Two Queen Beds and Waikiki View', 75), ('Suite, 1 King Bed (Parlor)', 'Gold King Suite', 80), ('Room, 2 Double Beds, Accessible, Partial Ocean View', 'Luxury Double Room', 76), ('Club Room, 1 King Bed, Oceanfront', 'Club Ocean Front With One King Bed', 71), ('Room, 1 King Bed', 'Royal Club Premier Room - One King Bed', 93), ('Business Plan, 1 King Bed', 'Business King Room', 84), ('Deluxe Room, 2 Queen Beds', 'Deluxe King Or Queen Room', 83), ('Premier Room, 1 King Bed (Royal Club)', 'Premier King Room', 100), ('Signature Room, 2 Double Beds, Non Smoking', 'Signature King', 78), ('City Room, City View', 'Standard Room With Ocean Front View', 78), ('Room, 1 Queen Bed', 'Luxury Queen Room With Two Queen Beds', 77), ('Deluxe Room', 'Deluxe One - Bedroom Suite', 71), ('Luxury Room, 2 Queen Beds (Prestige)', 'Deluxe Room - Two Queen Beds', 73), ('Club Room, 1 King Bed', 'Club Level King Or Queen Room with Water View', 82), ('Signature Room, 1 King Bed, Non Smoking', 'King Room', 100), ('Deluxe Suite, 1 Bedroom', 'One-Bedroom Suite', 87), ('Club Room, 2 Queen Beds', 'Queen Room', 100), ('Classic Room, 1 King Bed', 'Deluxe Room - One King Bed', 72), ('Room, 1 Queen Bed', 'Queen Room', 100), ('Room, Ocean View', 'Partial Ocean View With Two Double Beds', 80), ('Deluxe Room', 'Deluxe Queen Room - High Floor With Free Wi-Fi', 100), ('Room, Ocean View ', 'Regency Club Ocean View', 80), ('Club Suite, 1 King Bed, Accessible, Ocean View', 'Accessible Partial Ocean View With Two Double Beds', 71), ('Luxury Room, 1 Queen Bed, Non Smoking', 'Luxury King', 71), ('Room, 2 Double Beds, Accessible, Partial Ocean View', 'Kona Tower Partial Ocean View', 77), ('Deluxe Room, City View', 'Queen Room With City View', 80), ('Room, 2 Queen Beds, City View', 'Queen Room With City View', 89), ('Deluxe Suite, 1 King Bed, Non Smoking, Kitchen', 'Deluxe Room - One King Bed', 77), ('Room, 2 Queen Beds (Waikiki View)', 'Premier Queen Room With Two Queen Beds', 71), ('Signature Suite, 1 Bedroom', 'One - Bedroom Suite', 87), ('City Room, City View', 'Ocean View Room With King Bed', 78), ('Club Room, 1 King Bed', 'Club Ocean Front Suite King Bed', 79), ('Deluxe Room, City View', 'Room With City View', 85), ('Room, 2 Queen Beds, City View', 'Queen Room With Two Queen Beds and Waikiki View', 85), ('King Room, Suite, 1 King Bed with Sofa bed', 'Ocean View Room With King Bed', 77), ('City Room, City View', 'Standard Room With Mountain View', 78), ('Standard Room, Mountain View (Scenic)', 'Standard King Room', 84), ('High-Floor Premium Room, 1 King Bed', 'King Room', 100), ('Standard Room, Partial Ocean View (Kona Tower) - No Resort Fee', 'Standard Room With Ocean Front View', 81), ('Double Room', 'Accessible Partial Ocean View With Two Double Beds', 71), ('Room, 2 Queen Beds, City View', 'Room With City View', 85), ('Room, Accessible', 'Accessible Partial Ocean View With Two Double Beds', 80), ('Room, Ocean View', 'Room With Ocean View', 100), ('Deluxe Room', 'Deluxe Room - Two Queen Beds', 100), ('Signature Room, 1 King Bed', 'Deluxe King Room', 72), ('Deluxe Room, 1 King Bed', 'Deluxe King Room', 100), ('Room, 1 Queen Bed', 'Deluxe Queen Room - High Floor With Free Wi-Fi', 77), ('Standard Room, 1 King Bed, Accessible', 'Deluxe King Room', 72), ('Room, 1 King Bed, Ocean View', 'King Room', 100), ('Room, 1 King Bed, Accessible, Resort View (Alii, Bathtub)', 'Ocean View Room With King Bed', 77), ('Room, 1 King Bed, Ocean View (Alii)', 'Accessible Club Ocean View Suite With One King Bed', 76)}\n"
     ]
    }
   ],
   "source": [
    "name_list_comma = df['Expedia']\n",
    "name_list_space = df['Booking.com']\n",
    "op = []\n",
    "for nlc in name_list_comma:\n",
    "    for nls in name_list_space:\n",
    "        result = fuzz.token_set_ratio(nlc, nls)\n",
    "        if(result > 70):\n",
    "            op.append((nlc,nls,result))\n",
    "            \n",
    "final_res = set(op)\n",
    "print(final_res)\n",
    "\n"
   ]
  },
  {
   "cell_type": "code",
   "execution_count": 118,
   "metadata": {},
   "outputs": [],
   "source": [
    "data = pd.DataFrame(list(final_res),columns=['Name Comma Separated','Name Space Separated','Result'])\n",
    "data = data.sort_values(['Name Comma Separated','Result'],ascending=False).reset_index(drop=True)"
   ]
  },
  {
   "cell_type": "code",
   "execution_count": 148,
   "metadata": {},
   "outputs": [],
   "source": [
    "lis = data['Name Comma Separated'].unique()\n",
    "filtered = pd.DataFrame()\n",
    "for l in lis:\n",
    "    tem = data[data['Name Comma Separated'] == l].sort_values('Result',ascending = False).nlargest(2,'Result')\n",
    "    filtered = filtered.append(tem)"
   ]
  },
  {
   "cell_type": "code",
   "execution_count": 149,
   "metadata": {},
   "outputs": [
    {
     "data": {
      "text/html": [
       "<div>\n",
       "<style scoped>\n",
       "    .dataframe tbody tr th:only-of-type {\n",
       "        vertical-align: middle;\n",
       "    }\n",
       "\n",
       "    .dataframe tbody tr th {\n",
       "        vertical-align: top;\n",
       "    }\n",
       "\n",
       "    .dataframe thead th {\n",
       "        text-align: right;\n",
       "    }\n",
       "</style>\n",
       "<table border=\"1\" class=\"dataframe\">\n",
       "  <thead>\n",
       "    <tr style=\"text-align: right;\">\n",
       "      <th></th>\n",
       "      <th>Name Comma Separated</th>\n",
       "      <th>Name Space Separated</th>\n",
       "      <th>Result</th>\n",
       "    </tr>\n",
       "  </thead>\n",
       "  <tbody>\n",
       "    <tr>\n",
       "      <td>0</td>\n",
       "      <td>Traditional Room, 1 King Bed</td>\n",
       "      <td>King Room</td>\n",
       "      <td>100</td>\n",
       "    </tr>\n",
       "    <tr>\n",
       "      <td>1</td>\n",
       "      <td>Traditional Room, 1 King Bed</td>\n",
       "      <td>Deluxe King Room</td>\n",
       "      <td>72</td>\n",
       "    </tr>\n",
       "    <tr>\n",
       "      <td>2</td>\n",
       "      <td>Traditional Double Room, 2 Double Beds</td>\n",
       "      <td>Double Room with Two Double Beds</td>\n",
       "      <td>78</td>\n",
       "    </tr>\n",
       "    <tr>\n",
       "      <td>3</td>\n",
       "      <td>Traditional Double Room, 2 Double Beds</td>\n",
       "      <td>Luxury Double Room</td>\n",
       "      <td>76</td>\n",
       "    </tr>\n",
       "    <tr>\n",
       "      <td>5</td>\n",
       "      <td>Suite, 1 King Bed, Non Smoking</td>\n",
       "      <td>King Suite</td>\n",
       "      <td>100</td>\n",
       "    </tr>\n",
       "    <tr>\n",
       "      <td>...</td>\n",
       "      <td>...</td>\n",
       "      <td>...</td>\n",
       "      <td>...</td>\n",
       "    </tr>\n",
       "    <tr>\n",
       "      <td>665</td>\n",
       "      <td>City Room, City View</td>\n",
       "      <td>Queen Room With Two Queen Beds and City View</td>\n",
       "      <td>100</td>\n",
       "    </tr>\n",
       "    <tr>\n",
       "      <td>667</td>\n",
       "      <td>City Room, City View</td>\n",
       "      <td>Room With City View</td>\n",
       "      <td>100</td>\n",
       "    </tr>\n",
       "    <tr>\n",
       "      <td>685</td>\n",
       "      <td>Business Plan, 1 King Bed</td>\n",
       "      <td>Business King Room</td>\n",
       "      <td>84</td>\n",
       "    </tr>\n",
       "    <tr>\n",
       "      <td>686</td>\n",
       "      <td>Business Double Room, 2 Double Beds</td>\n",
       "      <td>Business Double Room With Two Double Beds</td>\n",
       "      <td>96</td>\n",
       "    </tr>\n",
       "    <tr>\n",
       "      <td>687</td>\n",
       "      <td>Business Double Room, 2 Double Beds</td>\n",
       "      <td>Business King Room</td>\n",
       "      <td>84</td>\n",
       "    </tr>\n",
       "  </tbody>\n",
       "</table>\n",
       "<p>183 rows × 3 columns</p>\n",
       "</div>"
      ],
      "text/plain": [
       "                       Name Comma Separated  \\\n",
       "0              Traditional Room, 1 King Bed   \n",
       "1              Traditional Room, 1 King Bed   \n",
       "2    Traditional Double Room, 2 Double Beds   \n",
       "3    Traditional Double Room, 2 Double Beds   \n",
       "5            Suite, 1 King Bed, Non Smoking   \n",
       "..                                      ...   \n",
       "665                    City Room, City View   \n",
       "667                    City Room, City View   \n",
       "685               Business Plan, 1 King Bed   \n",
       "686     Business Double Room, 2 Double Beds   \n",
       "687     Business Double Room, 2 Double Beds   \n",
       "\n",
       "                             Name Space Separated  Result  \n",
       "0                                       King Room     100  \n",
       "1                                Deluxe King Room      72  \n",
       "2                Double Room with Two Double Beds      78  \n",
       "3                              Luxury Double Room      76  \n",
       "5                                      King Suite     100  \n",
       "..                                            ...     ...  \n",
       "665  Queen Room With Two Queen Beds and City View     100  \n",
       "667                           Room With City View     100  \n",
       "685                            Business King Room      84  \n",
       "686     Business Double Room With Two Double Beds      96  \n",
       "687                            Business King Room      84  \n",
       "\n",
       "[183 rows x 3 columns]"
      ]
     },
     "execution_count": 149,
     "metadata": {},
     "output_type": "execute_result"
    }
   ],
   "source": [
    "filtered"
   ]
  },
  {
   "cell_type": "code",
   "execution_count": null,
   "metadata": {},
   "outputs": [],
   "source": []
  },
  {
   "cell_type": "code",
   "execution_count": 88,
   "metadata": {},
   "outputs": [
    {
     "data": {
      "text/plain": [
       "93"
      ]
     },
     "execution_count": 88,
     "metadata": {},
     "output_type": "execute_result"
    }
   ],
   "source": [
    "len(data_2['Name Comma Separated'].unique())"
   ]
  },
  {
   "cell_type": "code",
   "execution_count": 89,
   "metadata": {},
   "outputs": [
    {
     "data": {
      "text/plain": [
       "93"
      ]
     },
     "execution_count": 89,
     "metadata": {},
     "output_type": "execute_result"
    }
   ],
   "source": [
    "len(data['Name Comma Separated'].unique())"
   ]
  },
  {
   "cell_type": "code",
   "execution_count": null,
   "metadata": {},
   "outputs": [],
   "source": []
  }
 ],
 "metadata": {
  "kernelspec": {
   "display_name": "Python 3",
   "language": "python",
   "name": "python3"
  },
  "language_info": {
   "codemirror_mode": {
    "name": "ipython",
    "version": 3
   },
   "file_extension": ".py",
   "mimetype": "text/x-python",
   "name": "python",
   "nbconvert_exporter": "python",
   "pygments_lexer": "ipython3",
   "version": "3.7.4"
  }
 },
 "nbformat": 4,
 "nbformat_minor": 2
}
